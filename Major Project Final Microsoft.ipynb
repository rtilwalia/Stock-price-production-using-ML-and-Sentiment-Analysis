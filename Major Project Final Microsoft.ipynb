{
 "cells": [
  {
   "cell_type": "code",
   "execution_count": 1,
   "metadata": {},
   "outputs": [],
   "source": [
    "import numpy as np\n",
    "import matplotlib.pyplot as mtp  \n",
    "import pandas as pd "
   ]
  },
  {
   "cell_type": "code",
   "execution_count": 4,
   "metadata": {},
   "outputs": [
    {
     "data": {
      "text/html": [
       "<div>\n",
       "<style scoped>\n",
       "    .dataframe tbody tr th:only-of-type {\n",
       "        vertical-align: middle;\n",
       "    }\n",
       "\n",
       "    .dataframe tbody tr th {\n",
       "        vertical-align: top;\n",
       "    }\n",
       "\n",
       "    .dataframe thead th {\n",
       "        text-align: right;\n",
       "    }\n",
       "</style>\n",
       "<table border=\"1\" class=\"dataframe\">\n",
       "  <thead>\n",
       "    <tr style=\"text-align: right;\">\n",
       "      <th></th>\n",
       "      <th>Unnamed: 0</th>\n",
       "      <th>Unnamed: 0.1</th>\n",
       "      <th>Date</th>\n",
       "      <th>Open</th>\n",
       "      <th>High</th>\n",
       "      <th>Low</th>\n",
       "      <th>Close</th>\n",
       "      <th>Volume</th>\n",
       "      <th>Trend</th>\n",
       "      <th>Close_10</th>\n",
       "      <th>Future Trend</th>\n",
       "      <th>Total score</th>\n",
       "    </tr>\n",
       "  </thead>\n",
       "  <tbody>\n",
       "    <tr>\n",
       "      <th>0</th>\n",
       "      <td>0.0</td>\n",
       "      <td>0.0</td>\n",
       "      <td>20141231.0</td>\n",
       "      <td>41.321671</td>\n",
       "      <td>41.949497</td>\n",
       "      <td>41.074078</td>\n",
       "      <td>41.074078</td>\n",
       "      <td>21552500.0</td>\n",
       "      <td>-1.0</td>\n",
       "      <td>40.216362</td>\n",
       "      <td>-1.0</td>\n",
       "      <td>23</td>\n",
       "    </tr>\n",
       "    <tr>\n",
       "      <th>1</th>\n",
       "      <td>1.0</td>\n",
       "      <td>1.0</td>\n",
       "      <td>20150102.0</td>\n",
       "      <td>41.259780</td>\n",
       "      <td>41.931820</td>\n",
       "      <td>41.153670</td>\n",
       "      <td>41.348206</td>\n",
       "      <td>27913900.0</td>\n",
       "      <td>1.0</td>\n",
       "      <td>40.888405</td>\n",
       "      <td>-1.0</td>\n",
       "      <td>31</td>\n",
       "    </tr>\n",
       "    <tr>\n",
       "      <th>2</th>\n",
       "      <td>2.0</td>\n",
       "      <td>2.0</td>\n",
       "      <td>20150105.0</td>\n",
       "      <td>41.003344</td>\n",
       "      <td>41.321679</td>\n",
       "      <td>40.897233</td>\n",
       "      <td>40.967976</td>\n",
       "      <td>39673900.0</td>\n",
       "      <td>-1.0</td>\n",
       "      <td>41.021030</td>\n",
       "      <td>1.0</td>\n",
       "      <td>43</td>\n",
       "    </tr>\n",
       "    <tr>\n",
       "      <th>3</th>\n",
       "      <td>3.0</td>\n",
       "      <td>3.0</td>\n",
       "      <td>20150106.0</td>\n",
       "      <td>41.012201</td>\n",
       "      <td>41.339378</td>\n",
       "      <td>40.269418</td>\n",
       "      <td>40.366688</td>\n",
       "      <td>36447900.0</td>\n",
       "      <td>-1.0</td>\n",
       "      <td>40.605423</td>\n",
       "      <td>1.0</td>\n",
       "      <td>27</td>\n",
       "    </tr>\n",
       "    <tr>\n",
       "      <th>4</th>\n",
       "      <td>4.0</td>\n",
       "      <td>4.0</td>\n",
       "      <td>20150107.0</td>\n",
       "      <td>40.658473</td>\n",
       "      <td>41.082920</td>\n",
       "      <td>40.225186</td>\n",
       "      <td>40.879539</td>\n",
       "      <td>29114100.0</td>\n",
       "      <td>1.0</td>\n",
       "      <td>41.675385</td>\n",
       "      <td>1.0</td>\n",
       "      <td>70</td>\n",
       "    </tr>\n",
       "    <tr>\n",
       "      <th>...</th>\n",
       "      <td>...</td>\n",
       "      <td>...</td>\n",
       "      <td>...</td>\n",
       "      <td>...</td>\n",
       "      <td>...</td>\n",
       "      <td>...</td>\n",
       "      <td>...</td>\n",
       "      <td>...</td>\n",
       "      <td>...</td>\n",
       "      <td>...</td>\n",
       "      <td>...</td>\n",
       "      <td>...</td>\n",
       "    </tr>\n",
       "    <tr>\n",
       "      <th>1683</th>\n",
       "      <td>0.0</td>\n",
       "      <td>0.0</td>\n",
       "      <td>0.0</td>\n",
       "      <td>0.000000</td>\n",
       "      <td>0.000000</td>\n",
       "      <td>0.000000</td>\n",
       "      <td>0.000000</td>\n",
       "      <td>0.0</td>\n",
       "      <td>0.0</td>\n",
       "      <td>0.000000</td>\n",
       "      <td>0.0</td>\n",
       "      <td>18</td>\n",
       "    </tr>\n",
       "    <tr>\n",
       "      <th>1684</th>\n",
       "      <td>0.0</td>\n",
       "      <td>0.0</td>\n",
       "      <td>0.0</td>\n",
       "      <td>0.000000</td>\n",
       "      <td>0.000000</td>\n",
       "      <td>0.000000</td>\n",
       "      <td>0.000000</td>\n",
       "      <td>0.0</td>\n",
       "      <td>0.0</td>\n",
       "      <td>0.000000</td>\n",
       "      <td>0.0</td>\n",
       "      <td>295</td>\n",
       "    </tr>\n",
       "    <tr>\n",
       "      <th>1685</th>\n",
       "      <td>0.0</td>\n",
       "      <td>0.0</td>\n",
       "      <td>0.0</td>\n",
       "      <td>0.000000</td>\n",
       "      <td>0.000000</td>\n",
       "      <td>0.000000</td>\n",
       "      <td>0.000000</td>\n",
       "      <td>0.0</td>\n",
       "      <td>0.0</td>\n",
       "      <td>0.000000</td>\n",
       "      <td>0.0</td>\n",
       "      <td>185</td>\n",
       "    </tr>\n",
       "    <tr>\n",
       "      <th>1686</th>\n",
       "      <td>0.0</td>\n",
       "      <td>0.0</td>\n",
       "      <td>0.0</td>\n",
       "      <td>0.000000</td>\n",
       "      <td>0.000000</td>\n",
       "      <td>0.000000</td>\n",
       "      <td>0.000000</td>\n",
       "      <td>0.0</td>\n",
       "      <td>0.0</td>\n",
       "      <td>0.000000</td>\n",
       "      <td>0.0</td>\n",
       "      <td>130</td>\n",
       "    </tr>\n",
       "    <tr>\n",
       "      <th>1687</th>\n",
       "      <td>0.0</td>\n",
       "      <td>0.0</td>\n",
       "      <td>0.0</td>\n",
       "      <td>0.000000</td>\n",
       "      <td>0.000000</td>\n",
       "      <td>0.000000</td>\n",
       "      <td>0.000000</td>\n",
       "      <td>0.0</td>\n",
       "      <td>0.0</td>\n",
       "      <td>0.000000</td>\n",
       "      <td>0.0</td>\n",
       "      <td>142</td>\n",
       "    </tr>\n",
       "  </tbody>\n",
       "</table>\n",
       "<p>1688 rows × 12 columns</p>\n",
       "</div>"
      ],
      "text/plain": [
       "      Unnamed: 0  Unnamed: 0.1        Date       Open       High        Low  \\\n",
       "0            0.0           0.0  20141231.0  41.321671  41.949497  41.074078   \n",
       "1            1.0           1.0  20150102.0  41.259780  41.931820  41.153670   \n",
       "2            2.0           2.0  20150105.0  41.003344  41.321679  40.897233   \n",
       "3            3.0           3.0  20150106.0  41.012201  41.339378  40.269418   \n",
       "4            4.0           4.0  20150107.0  40.658473  41.082920  40.225186   \n",
       "...          ...           ...         ...        ...        ...        ...   \n",
       "1683         0.0           0.0         0.0   0.000000   0.000000   0.000000   \n",
       "1684         0.0           0.0         0.0   0.000000   0.000000   0.000000   \n",
       "1685         0.0           0.0         0.0   0.000000   0.000000   0.000000   \n",
       "1686         0.0           0.0         0.0   0.000000   0.000000   0.000000   \n",
       "1687         0.0           0.0         0.0   0.000000   0.000000   0.000000   \n",
       "\n",
       "          Close      Volume  Trend   Close_10  Future Trend  Total score  \n",
       "0     41.074078  21552500.0   -1.0  40.216362          -1.0           23  \n",
       "1     41.348206  27913900.0    1.0  40.888405          -1.0           31  \n",
       "2     40.967976  39673900.0   -1.0  41.021030           1.0           43  \n",
       "3     40.366688  36447900.0   -1.0  40.605423           1.0           27  \n",
       "4     40.879539  29114100.0    1.0  41.675385           1.0           70  \n",
       "...         ...         ...    ...        ...           ...          ...  \n",
       "1683   0.000000         0.0    0.0   0.000000           0.0           18  \n",
       "1684   0.000000         0.0    0.0   0.000000           0.0          295  \n",
       "1685   0.000000         0.0    0.0   0.000000           0.0          185  \n",
       "1686   0.000000         0.0    0.0   0.000000           0.0          130  \n",
       "1687   0.000000         0.0    0.0   0.000000           0.0          142  \n",
       "\n",
       "[1688 rows x 12 columns]"
      ]
     },
     "execution_count": 4,
     "metadata": {},
     "output_type": "execute_result"
    }
   ],
   "source": [
    "data_set= pd.read_csv(r'C:\\Users\\Vinod\\Desktop\\major project\\stocks\\microsoft_stocks.csv')  \n",
    "data_set.dropna(axis='columns')\n",
    "\n",
    "data_set.fillna(0, inplace=True)\n",
    "data_set"
   ]
  },
  {
   "cell_type": "code",
   "execution_count": 5,
   "metadata": {},
   "outputs": [],
   "source": [
    "feature_df = data_set[['Trend','Total score']]\n",
    "\n",
    "\n",
    "x = np.asarray(feature_df)\n",
    "\n",
    "y = np.asarray(data_set['Future Trend'])\n"
   ]
  },
  {
   "cell_type": "code",
   "execution_count": 6,
   "metadata": {},
   "outputs": [
    {
     "name": "stderr",
     "output_type": "stream",
     "text": [
      "No handles with labels found to put in legend.\n"
     ]
    },
    {
     "data": {
      "text/plain": [
       "<matplotlib.legend.Legend at 0x1d9e937d518>"
      ]
     },
     "execution_count": 6,
     "metadata": {},
     "output_type": "execute_result"
    },
    {
     "data": {
      "image/png": "[encoded data removed]",
      "text/plain": [
       "<Figure size 432x288 with 1 Axes>"
      ]
     },
     "metadata": {
      "needs_background": "light"
     },
     "output_type": "display_data"
    }
   ],
   "source": [
    "mtp.plot(data_set['Unnamed: 0'],data_set['Open'],data_set['Total score'])\n",
    "mtp.xlabel(\"No of day\")\n",
    "mtp.ylabel(\"Stock value and sentiments\")\n",
    "mtp.legend()"
   ]
  },
  {
   "cell_type": "code",
   "execution_count": 7,
   "metadata": {},
   "outputs": [],
   "source": [
    "from sklearn.model_selection import train_test_split  \n",
    "x_train, x_test, y_train, y_test= train_test_split(x, y, test_size= 0.2, random_state=0)  \n",
    "\n",
    "#feature Scaling  \n",
    "from sklearn.preprocessing import StandardScaler    \n",
    "st_x= StandardScaler()    \n",
    "x_train= st_x.fit_transform(x_train)    \n",
    "x_test= st_x.transform(x_test)    "
   ]
  },
  {
   "cell_type": "code",
   "execution_count": 8,
   "metadata": {},
   "outputs": [
    {
     "data": {
      "text/plain": [
       "RandomForestClassifier(bootstrap=True, ccp_alpha=0.0, class_weight=None,\n",
       "                       criterion='entropy', max_depth=None, max_features='auto',\n",
       "                       max_leaf_nodes=None, max_samples=None,\n",
       "                       min_impurity_decrease=0.0, min_impurity_split=None,\n",
       "                       min_samples_leaf=1, min_samples_split=2,\n",
       "                       min_weight_fraction_leaf=0.0, n_estimators=20,\n",
       "                       n_jobs=None, oob_score=False, random_state=None,\n",
       "                       verbose=0, warm_start=False)"
      ]
     },
     "execution_count": 8,
     "metadata": {},
     "output_type": "execute_result"
    }
   ],
   "source": [
    "#Fitting Decision Tree classifier to the training set  \n",
    "from sklearn.ensemble import RandomForestClassifier  \n",
    "classifier= RandomForestClassifier(n_estimators= 20, criterion=\"entropy\")  \n",
    "classifier.fit(x_train, y_train)  "
   ]
  },
  {
   "cell_type": "code",
   "execution_count": 9,
   "metadata": {},
   "outputs": [
    {
     "data": {
      "text/plain": [
       "array([ 1.,  1.,  1., -1.,  0.,  1.,  0., -1., -1.,  0., -1.,  0., -1.,\n",
       "       -1.,  0.,  1.,  1.,  0., -1., -1.,  1., -1.,  1.,  1.,  0.,  1.,\n",
       "        0.,  0.,  1.,  1.,  1.,  0.,  1.,  0.,  0.,  1.,  0.,  1.,  1.,\n",
       "        0.,  1.,  1.,  0.,  1., -1., -1.,  1.,  0.,  1.,  1., -1.,  1.,\n",
       "        0.,  1.,  0.,  1.,  1., -1.,  0.,  0.,  0., -1.,  1.,  1.,  0.,\n",
       "       -1.,  1.,  1.,  1.,  0.,  1., -1.,  0.,  0.,  1.,  1., -1.,  1.,\n",
       "       -1., -1., -1.,  1.,  1.,  1.,  1., -1.,  0.,  0.,  0.,  0.,  1.,\n",
       "        0.,  1., -1.,  1.,  0.,  0.,  0., -1.,  1.,  1.,  1., -1.,  1.,\n",
       "        1.,  1.,  1.,  1., -1.,  1.,  1.,  0.,  0., -1.,  1.,  1.,  0.,\n",
       "        1., -1.,  1., -1.,  1.,  1.,  1., -1.,  0.,  1.,  0.,  1.,  1.,\n",
       "        1.,  1.,  0., -1., -1.,  1.,  1.,  0., -1.,  1.,  1., -1.,  1.,\n",
       "        1.,  0.,  0.,  1.,  0.,  0.,  0.,  0., -1.,  0., -1.,  0., -1.,\n",
       "        1.,  1.,  1.,  1.,  1.,  0.,  1.,  0.,  1., -1.,  1., -1., -1.,\n",
       "        0.,  1.,  1.,  1.,  0.,  1., -1.,  1.,  0.,  1., -1.,  0., -1.,\n",
       "        1., -1.,  1.,  1., -1.,  1.,  1.,  1.,  1.,  0., -1., -1., -1.,\n",
       "       -1.,  1., -1.,  1.,  0.,  1.,  0., -1.,  0.,  1.,  0.,  1.,  1.,\n",
       "       -1.,  1.,  1.,  1.,  0.,  1., -1.,  0.,  1.,  1.,  0.,  0.,  1.,\n",
       "        1.,  1.,  1., -1.,  0., -1., -1.,  0.,  1., -1.,  1.,  1.,  1.,\n",
       "        0.,  0.,  0., -1.,  1.,  1.,  1.,  1., -1.,  0., -1.,  1.,  0.,\n",
       "       -1.,  1., -1., -1.,  1.,  0.,  1., -1., -1.,  0.,  0.,  1.,  0.,\n",
       "        0., -1., -1.,  1., -1.,  1.,  1.,  1.,  0., -1.,  0.,  0.,  1.,\n",
       "        0.,  1.,  1.,  1.,  0.,  1.,  0.,  1.,  0.,  0.,  1.,  1.,  0.,\n",
       "       -1.,  1.,  0.,  1.,  1.,  0.,  1.,  0.,  0.,  0., -1.,  1.,  0.,\n",
       "        1.,  1.,  0.,  1.,  1.,  0.,  1.,  0.,  1., -1.,  1.,  0.,  1.,\n",
       "        1.,  0.,  1., -1.,  1.,  0.,  0.,  0.,  1., -1.,  1.,  1.,  0.,\n",
       "       -1.,  1.,  0., -1.,  1.,  1.,  0., -1.,  1.,  0.,  1.,  1.,  1.])"
      ]
     },
     "execution_count": 9,
     "metadata": {},
     "output_type": "execute_result"
    }
   ],
   "source": [
    "#Predicting the test set result  \n",
    "y_pred= classifier.predict(x_test)  \n",
    "y_pred"
   ]
  },
  {
   "cell_type": "code",
   "execution_count": 10,
   "metadata": {},
   "outputs": [
    {
     "data": {
      "text/plain": [
       "array([[ 33,   1,  60],\n",
       "       [  0, 101,   0],\n",
       "       [ 43,   0, 100]], dtype=int64)"
      ]
     },
     "execution_count": 10,
     "metadata": {},
     "output_type": "execute_result"
    }
   ],
   "source": [
    "#Creating the Confusion matrix  \n",
    "from sklearn.metrics import confusion_matrix  \n",
    "cm= confusion_matrix(y_test, y_pred)  \n",
    "cm"
   ]
  },
  {
   "cell_type": "code",
   "execution_count": 11,
   "metadata": {},
   "outputs": [
    {
     "name": "stdout",
     "output_type": "stream",
     "text": [
      "Accuracy: 0.6923076923076923\n"
     ]
    }
   ],
   "source": [
    "from sklearn import metrics\n",
    "# Model Accuracy, how often is the classifier correct?\n",
    "print(\"Accuracy:\",metrics.accuracy_score(y_test, y_pred))"
   ]
  },
  {
   "cell_type": "code",
   "execution_count": 13,
   "metadata": {},
   "outputs": [],
   "source": []
  },
  {
   "cell_type": "code",
   "execution_count": null,
   "metadata": {},
   "outputs": [],
   "source": []
  },
  {
   "cell_type": "code",
   "execution_count": null,
   "metadata": {},
   "outputs": [],
   "source": []
  }
 ],
 "metadata": {
  "kernelspec": {
   "display_name": "Python 3.6.5 64-bit ('Vinod': virtualenv)",
   "language": "python",
   "name": "python36564bitvinodvirtualenv4b53f92ccde74dd29aef20cb28f92e3b"
  },
  "language_info": {
   "codemirror_mode": {
    "name": "ipython",
    "version": 3
   },
   "file_extension": ".py",
   "mimetype": "text/x-python",
   "name": "python",
   "nbconvert_exporter": "python",
   "pygments_lexer": "ipython3",
   "version": "3.6.10"
  }
 },
 "nbformat": 4,
 "nbformat_minor": 4
}
