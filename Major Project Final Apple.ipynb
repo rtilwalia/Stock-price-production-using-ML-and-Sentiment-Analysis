{
 "cells": [
  {
   "cell_type": "code",
   "execution_count": 2,
   "metadata": {},
   "outputs": [],
   "source": [
    "import numpy as np\n",
    "import matplotlib.pyplot as mtp  \n",
    "import pandas as pd "
   ]
  },
  {
   "cell_type": "code",
   "execution_count": 3,
   "metadata": {},
   "outputs": [
    {
     "data": {
      "text/html": [
       "<div>\n",
       "<style scoped>\n",
       "    .dataframe tbody tr th:only-of-type {\n",
       "        vertical-align: middle;\n",
       "    }\n",
       "\n",
       "    .dataframe tbody tr th {\n",
       "        vertical-align: top;\n",
       "    }\n",
       "\n",
       "    .dataframe thead th {\n",
       "        text-align: right;\n",
       "    }\n",
       "</style>\n",
       "<table border=\"1\" class=\"dataframe\">\n",
       "  <thead>\n",
       "    <tr style=\"text-align: right;\">\n",
       "      <th></th>\n",
       "      <th>Unnamed: 0</th>\n",
       "      <th>Unnamed: 0.1</th>\n",
       "      <th>Date</th>\n",
       "      <th>Open</th>\n",
       "      <th>High</th>\n",
       "      <th>Low</th>\n",
       "      <th>Close</th>\n",
       "      <th>Volume</th>\n",
       "      <th>Trend</th>\n",
       "      <th>Close_10</th>\n",
       "      <th>Future Trend</th>\n",
       "      <th>Total score</th>\n",
       "    </tr>\n",
       "  </thead>\n",
       "  <tbody>\n",
       "    <tr>\n",
       "      <th>0</th>\n",
       "      <td>0</td>\n",
       "      <td>0</td>\n",
       "      <td>20141231</td>\n",
       "      <td>25.611516</td>\n",
       "      <td>25.681889</td>\n",
       "      <td>25.019014</td>\n",
       "      <td>25.057606</td>\n",
       "      <td>165613600</td>\n",
       "      <td>-1</td>\n",
       "      <td>24.249435</td>\n",
       "      <td>-1</td>\n",
       "      <td>202</td>\n",
       "    </tr>\n",
       "    <tr>\n",
       "      <th>1</th>\n",
       "      <td>1</td>\n",
       "      <td>1</td>\n",
       "      <td>20150102</td>\n",
       "      <td>25.286885</td>\n",
       "      <td>25.298236</td>\n",
       "      <td>24.369756</td>\n",
       "      <td>24.819241</td>\n",
       "      <td>212818400</td>\n",
       "      <td>-1</td>\n",
       "      <td>24.061016</td>\n",
       "      <td>-1</td>\n",
       "      <td>364</td>\n",
       "    </tr>\n",
       "    <tr>\n",
       "      <th>2</th>\n",
       "      <td>2</td>\n",
       "      <td>2</td>\n",
       "      <td>20150105</td>\n",
       "      <td>24.583150</td>\n",
       "      <td>24.664874</td>\n",
       "      <td>23.929355</td>\n",
       "      <td>24.120045</td>\n",
       "      <td>257142000</td>\n",
       "      <td>-1</td>\n",
       "      <td>24.680767</td>\n",
       "      <td>1</td>\n",
       "      <td>269</td>\n",
       "    </tr>\n",
       "    <tr>\n",
       "      <th>3</th>\n",
       "      <td>3</td>\n",
       "      <td>3</td>\n",
       "      <td>20150106</td>\n",
       "      <td>24.185883</td>\n",
       "      <td>24.387924</td>\n",
       "      <td>23.752289</td>\n",
       "      <td>24.122320</td>\n",
       "      <td>263188400</td>\n",
       "      <td>-1</td>\n",
       "      <td>24.869184</td>\n",
       "      <td>1</td>\n",
       "      <td>292</td>\n",
       "    </tr>\n",
       "    <tr>\n",
       "      <th>4</th>\n",
       "      <td>4</td>\n",
       "      <td>4</td>\n",
       "      <td>20150107</td>\n",
       "      <td>24.335706</td>\n",
       "      <td>24.562718</td>\n",
       "      <td>24.222200</td>\n",
       "      <td>24.460564</td>\n",
       "      <td>160423600</td>\n",
       "      <td>1</td>\n",
       "      <td>25.516169</td>\n",
       "      <td>1</td>\n",
       "      <td>716</td>\n",
       "    </tr>\n",
       "    <tr>\n",
       "      <th>...</th>\n",
       "      <td>...</td>\n",
       "      <td>...</td>\n",
       "      <td>...</td>\n",
       "      <td>...</td>\n",
       "      <td>...</td>\n",
       "      <td>...</td>\n",
       "      <td>...</td>\n",
       "      <td>...</td>\n",
       "      <td>...</td>\n",
       "      <td>...</td>\n",
       "      <td>...</td>\n",
       "      <td>...</td>\n",
       "    </tr>\n",
       "    <tr>\n",
       "      <th>1158</th>\n",
       "      <td>1158</td>\n",
       "      <td>1158</td>\n",
       "      <td>20190808</td>\n",
       "      <td>49.128691</td>\n",
       "      <td>49.945867</td>\n",
       "      <td>48.929919</td>\n",
       "      <td>49.921326</td>\n",
       "      <td>108038000</td>\n",
       "      <td>1</td>\n",
       "      <td>49.920000</td>\n",
       "      <td>-1</td>\n",
       "      <td>492</td>\n",
       "    </tr>\n",
       "    <tr>\n",
       "      <th>1159</th>\n",
       "      <td>1159</td>\n",
       "      <td>1159</td>\n",
       "      <td>20190809</td>\n",
       "      <td>49.586314</td>\n",
       "      <td>49.945955</td>\n",
       "      <td>49.091188</td>\n",
       "      <td>49.509953</td>\n",
       "      <td>98478800</td>\n",
       "      <td>-1</td>\n",
       "      <td>50.860000</td>\n",
       "      <td>1</td>\n",
       "      <td>877</td>\n",
       "    </tr>\n",
       "    <tr>\n",
       "      <th>1160</th>\n",
       "      <td>1160</td>\n",
       "      <td>1160</td>\n",
       "      <td>20190812</td>\n",
       "      <td>49.172483</td>\n",
       "      <td>49.771068</td>\n",
       "      <td>49.056707</td>\n",
       "      <td>49.384327</td>\n",
       "      <td>89927600</td>\n",
       "      <td>1</td>\n",
       "      <td>50.290000</td>\n",
       "      <td>1</td>\n",
       "      <td>266</td>\n",
       "    </tr>\n",
       "    <tr>\n",
       "      <th>1161</th>\n",
       "      <td>1161</td>\n",
       "      <td>1161</td>\n",
       "      <td>20190813</td>\n",
       "      <td>49.517344</td>\n",
       "      <td>52.256537</td>\n",
       "      <td>49.384323</td>\n",
       "      <td>51.475670</td>\n",
       "      <td>188874000</td>\n",
       "      <td>1</td>\n",
       "      <td>50.630000</td>\n",
       "      <td>-1</td>\n",
       "      <td>571</td>\n",
       "    </tr>\n",
       "    <tr>\n",
       "      <th>1162</th>\n",
       "      <td>1162</td>\n",
       "      <td>1162</td>\n",
       "      <td>20190814</td>\n",
       "      <td>50.044489</td>\n",
       "      <td>50.852453</td>\n",
       "      <td>49.904079</td>\n",
       "      <td>49.943493</td>\n",
       "      <td>146189600</td>\n",
       "      <td>-1</td>\n",
       "      <td>51.490000</td>\n",
       "      <td>1</td>\n",
       "      <td>738</td>\n",
       "    </tr>\n",
       "  </tbody>\n",
       "</table>\n",
       "<p>1163 rows × 12 columns</p>\n",
       "</div>"
      ],
      "text/plain": [
       "      Unnamed: 0  Unnamed: 0.1      Date       Open       High        Low  \\\n",
       "0              0             0  20141231  25.611516  25.681889  25.019014   \n",
       "1              1             1  20150102  25.286885  25.298236  24.369756   \n",
       "2              2             2  20150105  24.583150  24.664874  23.929355   \n",
       "3              3             3  20150106  24.185883  24.387924  23.752289   \n",
       "4              4             4  20150107  24.335706  24.562718  24.222200   \n",
       "...          ...           ...       ...        ...        ...        ...   \n",
       "1158        1158          1158  20190808  49.128691  49.945867  48.929919   \n",
       "1159        1159          1159  20190809  49.586314  49.945955  49.091188   \n",
       "1160        1160          1160  20190812  49.172483  49.771068  49.056707   \n",
       "1161        1161          1161  20190813  49.517344  52.256537  49.384323   \n",
       "1162        1162          1162  20190814  50.044489  50.852453  49.904079   \n",
       "\n",
       "          Close     Volume  Trend   Close_10  Future Trend  Total score  \n",
       "0     25.057606  165613600     -1  24.249435            -1          202  \n",
       "1     24.819241  212818400     -1  24.061016            -1          364  \n",
       "2     24.120045  257142000     -1  24.680767             1          269  \n",
       "3     24.122320  263188400     -1  24.869184             1          292  \n",
       "4     24.460564  160423600      1  25.516169             1          716  \n",
       "...         ...        ...    ...        ...           ...          ...  \n",
       "1158  49.921326  108038000      1  49.920000            -1          492  \n",
       "1159  49.509953   98478800     -1  50.860000             1          877  \n",
       "1160  49.384327   89927600      1  50.290000             1          266  \n",
       "1161  51.475670  188874000      1  50.630000            -1          571  \n",
       "1162  49.943493  146189600     -1  51.490000             1          738  \n",
       "\n",
       "[1163 rows x 12 columns]"
      ]
     },
     "execution_count": 3,
     "metadata": {},
     "output_type": "execute_result"
    }
   ],
   "source": [
    "data_set= pd.read_csv(r'C:\\Users\\Vinod\\Desktop\\major project\\stocks\\apple_stocks.csv')  \n",
    "data_set.dropna(axis='columns')\n",
    "\n",
    "data_set.fillna(0, inplace=True)\n",
    "data_set"
   ]
  },
  {
   "cell_type": "code",
   "execution_count": 4,
   "metadata": {},
   "outputs": [],
   "source": [
    "feature_df = data_set[['Trend','Total score']]\n",
    "\n",
    "\n",
    "x = np.asarray(feature_df)\n",
    "\n",
    "y = np.asarray(data_set['Future Trend'])\n"
   ]
  },
  {
   "cell_type": "code",
   "execution_count": 5,
   "metadata": {},
   "outputs": [
    {
     "data": {
      "text/plain": [
       "Text(0, 0.5, 'Stock value and sentiments')"
      ]
     },
     "execution_count": 5,
     "metadata": {},
     "output_type": "execute_result"
    },
    {
     "data": {
      "image/png": "[encoded data removed]",
      "text/plain": [
       "<Figure size 432x288 with 1 Axes>"
      ]
     },
     "metadata": {
      "needs_background": "light"
     },
     "output_type": "display_data"
    }
   ],
   "source": [
    "mtp.plot(data_set['Unnamed: 0'],data_set['Open'],data_set['Total score'])\n",
    "mtp.xlabel(\"No of day\")\n",
    "mtp.ylabel(\"Stock value and sentiments\")"
   ]
  },
  {
   "cell_type": "code",
   "execution_count": 6,
   "metadata": {},
   "outputs": [],
   "source": [
    "from sklearn.model_selection import train_test_split  \n",
    "x_train, x_test, y_train, y_test= train_test_split(x, y, test_size= 0.2, random_state=0)  \n",
    "\n",
    "#feature Scaling  \n",
    "from sklearn.preprocessing import StandardScaler    \n",
    "st_x= StandardScaler()    \n",
    "x_train= st_x.fit_transform(x_train)    \n",
    "x_test= st_x.transform(x_test)    "
   ]
  },
  {
   "cell_type": "code",
   "execution_count": 7,
   "metadata": {},
   "outputs": [
    {
     "data": {
      "text/plain": [
       "RandomForestClassifier(bootstrap=True, ccp_alpha=0.0, class_weight=None,\n",
       "                       criterion='entropy', max_depth=None, max_features='auto',\n",
       "                       max_leaf_nodes=None, max_samples=None,\n",
       "                       min_impurity_decrease=0.0, min_impurity_split=None,\n",
       "                       min_samples_leaf=1, min_samples_split=2,\n",
       "                       min_weight_fraction_leaf=0.0, n_estimators=100,\n",
       "                       n_jobs=None, oob_score=False, random_state=None,\n",
       "                       verbose=0, warm_start=False)"
      ]
     },
     "execution_count": 7,
     "metadata": {},
     "output_type": "execute_result"
    }
   ],
   "source": [
    "#Fitting Decision Tree classifier to the training set  \n",
    "from sklearn.ensemble import RandomForestClassifier  \n",
    "classifier= RandomForestClassifier(n_estimators= 100, criterion=\"entropy\")  \n",
    "classifier.fit(x_train, y_train)  "
   ]
  },
  {
   "cell_type": "code",
   "execution_count": 8,
   "metadata": {},
   "outputs": [
    {
     "data": {
      "text/plain": [
       "array([-1, -1,  1, -1,  1,  1, -1,  1,  1,  1, -1,  1,  1, -1, -1,  1,  1,\n",
       "        1, -1,  1, -1, -1,  1, -1,  1,  1,  1, -1, -1,  1,  1,  1,  1,  1,\n",
       "        1,  1, -1, -1,  1, -1, -1, -1,  1,  1, -1,  1,  1, -1,  1,  1,  1,\n",
       "       -1,  1,  1,  1, -1,  1, -1,  1, -1, -1, -1,  1, -1, -1,  1,  1,  1,\n",
       "        1, -1,  1,  1,  1,  1,  1,  1,  1,  1, -1,  1,  1, -1,  1, -1, -1,\n",
       "       -1, -1,  1,  1,  1,  1,  1,  1,  1,  1,  1,  1, -1, -1, -1, -1,  1,\n",
       "        1,  1,  1,  1, -1,  1, -1,  1, -1, -1, -1,  1, -1,  1, -1, -1,  1,\n",
       "        1,  1,  1,  1,  1,  1, -1, -1,  1,  1,  1,  1, -1, -1, -1,  1, -1,\n",
       "        1, -1,  1,  1,  1,  1,  1,  1,  1,  1, -1,  1,  1,  1,  1, -1, -1,\n",
       "       -1, -1, -1,  1,  1,  1, -1, -1,  1, -1, -1,  1,  1,  1,  1,  1,  1,\n",
       "        1,  1, -1,  1,  1,  1,  1,  1, -1, -1, -1, -1, -1, -1, -1, -1, -1,\n",
       "       -1,  1,  1, -1, -1,  1,  1,  1,  1,  1,  1, -1,  1,  1,  1,  1,  1,\n",
       "        1,  1,  1, -1,  1,  1, -1, -1,  1,  1,  1,  1,  1, -1,  1, -1,  1,\n",
       "        1,  1, -1, -1,  1,  1,  1,  1,  1, -1,  1, -1], dtype=int64)"
      ]
     },
     "execution_count": 8,
     "metadata": {},
     "output_type": "execute_result"
    }
   ],
   "source": [
    "#Predicting the test set result  \n",
    "y_pred= classifier.predict(x_test)  \n",
    "y_pred"
   ]
  },
  {
   "cell_type": "code",
   "execution_count": 9,
   "metadata": {},
   "outputs": [
    {
     "data": {
      "text/plain": [
       "array([[33,  0, 59],\n",
       "       [ 1,  0,  0],\n",
       "       [53,  0, 87]], dtype=int64)"
      ]
     },
     "execution_count": 9,
     "metadata": {},
     "output_type": "execute_result"
    }
   ],
   "source": [
    "#Creating the Confusion matrix  \n",
    "from sklearn.metrics import confusion_matrix  \n",
    "cm= confusion_matrix(y_test, y_pred)  \n",
    "cm"
   ]
  },
  {
   "cell_type": "code",
   "execution_count": 10,
   "metadata": {},
   "outputs": [
    {
     "name": "stdout",
     "output_type": "stream",
     "text": [
      "Accuracy: 0.5150214592274678\n"
     ]
    }
   ],
   "source": [
    "from sklearn import metrics\n",
    "# Model Accuracy, how often is the classifier correct?\n",
    "print(\"Accuracy:\",metrics.accuracy_score(y_test, y_pred))"
   ]
  },
  {
   "cell_type": "code",
   "execution_count": 13,
   "metadata": {},
   "outputs": [],
   "source": []
  },
  {
   "cell_type": "code",
   "execution_count": null,
   "metadata": {},
   "outputs": [],
   "source": []
  },
  {
   "cell_type": "code",
   "execution_count": null,
   "metadata": {},
   "outputs": [],
   "source": []
  }
 ],
 "metadata": {
  "kernelspec": {
   "display_name": "Python 3.6.5 64-bit ('Vinod': virtualenv)",
   "language": "python",
   "name": "python36564bitvinodvirtualenv4b53f92ccde74dd29aef20cb28f92e3b"
  },
  "language_info": {
   "codemirror_mode": {
    "name": "ipython",
    "version": 3
   },
   "file_extension": ".py",
   "mimetype": "text/x-python",
   "name": "python",
   "nbconvert_exporter": "python",
   "pygments_lexer": "ipython3",
   "version": "3.6.10"
  }
 },
 "nbformat": 4,
 "nbformat_minor": 4
}
