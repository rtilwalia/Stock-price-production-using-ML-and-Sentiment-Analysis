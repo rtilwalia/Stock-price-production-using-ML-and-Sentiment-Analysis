{
 "cells": [
  {
   "cell_type": "code",
   "execution_count": 1,
   "metadata": {},
   "outputs": [],
   "source": [
    "import numpy as np\n",
    "import matplotlib.pyplot as mtp  \n",
    "import pandas as pd "
   ]
  },
  {
   "cell_type": "code",
   "execution_count": 4,
   "metadata": {},
   "outputs": [
    {
     "data": {
      "text/html": [
       "<div>\n",
       "<style scoped>\n",
       "    .dataframe tbody tr th:only-of-type {\n",
       "        vertical-align: middle;\n",
       "    }\n",
       "\n",
       "    .dataframe tbody tr th {\n",
       "        vertical-align: top;\n",
       "    }\n",
       "\n",
       "    .dataframe thead th {\n",
       "        text-align: right;\n",
       "    }\n",
       "</style>\n",
       "<table border=\"1\" class=\"dataframe\">\n",
       "  <thead>\n",
       "    <tr style=\"text-align: right;\">\n",
       "      <th></th>\n",
       "      <th>Unnamed: 0</th>\n",
       "      <th>Unnamed: 0.1</th>\n",
       "      <th>Date</th>\n",
       "      <th>Open</th>\n",
       "      <th>High</th>\n",
       "      <th>Low</th>\n",
       "      <th>Close</th>\n",
       "      <th>Volume</th>\n",
       "      <th>Trend</th>\n",
       "      <th>Close_10</th>\n",
       "      <th>Future Trend</th>\n",
       "      <th>Total score</th>\n",
       "    </tr>\n",
       "  </thead>\n",
       "  <tbody>\n",
       "    <tr>\n",
       "      <th>0</th>\n",
       "      <td>0</td>\n",
       "      <td>0</td>\n",
       "      <td>20141231</td>\n",
       "      <td>44.618000</td>\n",
       "      <td>45.136002</td>\n",
       "      <td>44.450001</td>\n",
       "      <td>44.481998</td>\n",
       "      <td>11487500</td>\n",
       "      <td>-1</td>\n",
       "      <td>38.374001</td>\n",
       "      <td>-1</td>\n",
       "      <td>45</td>\n",
       "    </tr>\n",
       "    <tr>\n",
       "      <th>1</th>\n",
       "      <td>1</td>\n",
       "      <td>1</td>\n",
       "      <td>20150102</td>\n",
       "      <td>44.574001</td>\n",
       "      <td>44.650002</td>\n",
       "      <td>42.652000</td>\n",
       "      <td>43.862000</td>\n",
       "      <td>23822000</td>\n",
       "      <td>-1</td>\n",
       "      <td>38.613998</td>\n",
       "      <td>-1</td>\n",
       "      <td>147</td>\n",
       "    </tr>\n",
       "    <tr>\n",
       "      <th>2</th>\n",
       "      <td>2</td>\n",
       "      <td>2</td>\n",
       "      <td>20150105</td>\n",
       "      <td>42.910000</td>\n",
       "      <td>43.299999</td>\n",
       "      <td>41.431999</td>\n",
       "      <td>42.018002</td>\n",
       "      <td>26842500</td>\n",
       "      <td>-1</td>\n",
       "      <td>38.386002</td>\n",
       "      <td>-1</td>\n",
       "      <td>42</td>\n",
       "    </tr>\n",
       "    <tr>\n",
       "      <th>3</th>\n",
       "      <td>3</td>\n",
       "      <td>3</td>\n",
       "      <td>20150106</td>\n",
       "      <td>42.012001</td>\n",
       "      <td>42.840000</td>\n",
       "      <td>40.841999</td>\n",
       "      <td>42.256001</td>\n",
       "      <td>31309500</td>\n",
       "      <td>1</td>\n",
       "      <td>39.313999</td>\n",
       "      <td>-1</td>\n",
       "      <td>52</td>\n",
       "    </tr>\n",
       "    <tr>\n",
       "      <th>4</th>\n",
       "      <td>4</td>\n",
       "      <td>4</td>\n",
       "      <td>20150107</td>\n",
       "      <td>42.669998</td>\n",
       "      <td>42.956001</td>\n",
       "      <td>41.956001</td>\n",
       "      <td>42.189999</td>\n",
       "      <td>14842000</td>\n",
       "      <td>-1</td>\n",
       "      <td>40.324001</td>\n",
       "      <td>-1</td>\n",
       "      <td>216</td>\n",
       "    </tr>\n",
       "    <tr>\n",
       "      <th>...</th>\n",
       "      <td>...</td>\n",
       "      <td>...</td>\n",
       "      <td>...</td>\n",
       "      <td>...</td>\n",
       "      <td>...</td>\n",
       "      <td>...</td>\n",
       "      <td>...</td>\n",
       "      <td>...</td>\n",
       "      <td>...</td>\n",
       "      <td>...</td>\n",
       "      <td>...</td>\n",
       "      <td>...</td>\n",
       "    </tr>\n",
       "    <tr>\n",
       "      <th>1158</th>\n",
       "      <td>1158</td>\n",
       "      <td>1158</td>\n",
       "      <td>20190808</td>\n",
       "      <td>46.889999</td>\n",
       "      <td>47.959999</td>\n",
       "      <td>46.529999</td>\n",
       "      <td>47.660000</td>\n",
       "      <td>26371500</td>\n",
       "      <td>1</td>\n",
       "      <td>42.240000</td>\n",
       "      <td>-1</td>\n",
       "      <td>155</td>\n",
       "    </tr>\n",
       "    <tr>\n",
       "      <th>1159</th>\n",
       "      <td>1159</td>\n",
       "      <td>1159</td>\n",
       "      <td>20190809</td>\n",
       "      <td>47.209999</td>\n",
       "      <td>47.792000</td>\n",
       "      <td>46.762001</td>\n",
       "      <td>47.001999</td>\n",
       "      <td>19491000</td>\n",
       "      <td>-1</td>\n",
       "      <td>43.000000</td>\n",
       "      <td>-1</td>\n",
       "      <td>190</td>\n",
       "    </tr>\n",
       "    <tr>\n",
       "      <th>1160</th>\n",
       "      <td>1160</td>\n",
       "      <td>1160</td>\n",
       "      <td>20190812</td>\n",
       "      <td>46.598000</td>\n",
       "      <td>47.153999</td>\n",
       "      <td>45.750000</td>\n",
       "      <td>45.801998</td>\n",
       "      <td>23319500</td>\n",
       "      <td>-1</td>\n",
       "      <td>42.820000</td>\n",
       "      <td>-1</td>\n",
       "      <td>11</td>\n",
       "    </tr>\n",
       "    <tr>\n",
       "      <th>1161</th>\n",
       "      <td>1161</td>\n",
       "      <td>1161</td>\n",
       "      <td>20190813</td>\n",
       "      <td>45.762001</td>\n",
       "      <td>47.200001</td>\n",
       "      <td>45.509998</td>\n",
       "      <td>47.000000</td>\n",
       "      <td>24240500</td>\n",
       "      <td>1</td>\n",
       "      <td>43.120000</td>\n",
       "      <td>-1</td>\n",
       "      <td>219</td>\n",
       "    </tr>\n",
       "    <tr>\n",
       "      <th>1162</th>\n",
       "      <td>1162</td>\n",
       "      <td>1162</td>\n",
       "      <td>20190814</td>\n",
       "      <td>46.242001</td>\n",
       "      <td>46.299999</td>\n",
       "      <td>43.338001</td>\n",
       "      <td>43.924000</td>\n",
       "      <td>47813000</td>\n",
       "      <td>-1</td>\n",
       "      <td>44.340000</td>\n",
       "      <td>1</td>\n",
       "      <td>203</td>\n",
       "    </tr>\n",
       "  </tbody>\n",
       "</table>\n",
       "<p>1163 rows × 12 columns</p>\n",
       "</div>"
      ],
      "text/plain": [
       "      Unnamed: 0  Unnamed: 0.1      Date       Open       High        Low  \\\n",
       "0              0             0  20141231  44.618000  45.136002  44.450001   \n",
       "1              1             1  20150102  44.574001  44.650002  42.652000   \n",
       "2              2             2  20150105  42.910000  43.299999  41.431999   \n",
       "3              3             3  20150106  42.012001  42.840000  40.841999   \n",
       "4              4             4  20150107  42.669998  42.956001  41.956001   \n",
       "...          ...           ...       ...        ...        ...        ...   \n",
       "1158        1158          1158  20190808  46.889999  47.959999  46.529999   \n",
       "1159        1159          1159  20190809  47.209999  47.792000  46.762001   \n",
       "1160        1160          1160  20190812  46.598000  47.153999  45.750000   \n",
       "1161        1161          1161  20190813  45.762001  47.200001  45.509998   \n",
       "1162        1162          1162  20190814  46.242001  46.299999  43.338001   \n",
       "\n",
       "          Close    Volume  Trend   Close_10  Future Trend  Total score  \n",
       "0     44.481998  11487500     -1  38.374001            -1           45  \n",
       "1     43.862000  23822000     -1  38.613998            -1          147  \n",
       "2     42.018002  26842500     -1  38.386002            -1           42  \n",
       "3     42.256001  31309500      1  39.313999            -1           52  \n",
       "4     42.189999  14842000     -1  40.324001            -1          216  \n",
       "...         ...       ...    ...        ...           ...          ...  \n",
       "1158  47.660000  26371500      1  42.240000            -1          155  \n",
       "1159  47.001999  19491000     -1  43.000000            -1          190  \n",
       "1160  45.801998  23319500     -1  42.820000            -1           11  \n",
       "1161  47.000000  24240500      1  43.120000            -1          219  \n",
       "1162  43.924000  47813000     -1  44.340000             1          203  \n",
       "\n",
       "[1163 rows x 12 columns]"
      ]
     },
     "execution_count": 4,
     "metadata": {},
     "output_type": "execute_result"
    }
   ],
   "source": [
    "data_set= pd.read_csv(r'C:\\Users\\Vinod\\Desktop\\major project\\stocks\\tesla_stocks.csv')  \n",
    "data_set.dropna(axis='columns')\n",
    "data_set.fillna(0, inplace=True)\n",
    "data_set"
   ]
  },
  {
   "cell_type": "code",
   "execution_count": 5,
   "metadata": {},
   "outputs": [],
   "source": [
    "feature_df = data_set[['Trend','Total score']]\n",
    "\n",
    "\n",
    "x = np.asarray(feature_df)\n",
    "\n",
    "y = np.asarray(data_set['Future Trend'])\n"
   ]
  },
  {
   "cell_type": "code",
   "execution_count": 6,
   "metadata": {},
   "outputs": [
    {
     "name": "stderr",
     "output_type": "stream",
     "text": [
      "No handles with labels found to put in legend.\n"
     ]
    },
    {
     "data": {
      "text/plain": [
       "<matplotlib.legend.Legend at 0x29a224de470>"
      ]
     },
     "execution_count": 6,
     "metadata": {},
     "output_type": "execute_result"
    },
    {
     "data": {
      "image/png": "[encoded data removed]",
      "text/plain": [
       "<Figure size 432x288 with 1 Axes>"
      ]
     },
     "metadata": {
      "needs_background": "light"
     },
     "output_type": "display_data"
    }
   ],
   "source": [
    "mtp.plot(data_set['Unnamed: 0'],data_set['Open'],data_set['Total score'])\n",
    "mtp.xlabel(\"No of day\")\n",
    "mtp.ylabel(\"Stock value and sentiments\")\n",
    "mtp.legend()"
   ]
  },
  {
   "cell_type": "code",
   "execution_count": 7,
   "metadata": {},
   "outputs": [],
   "source": [
    "from sklearn.model_selection import train_test_split  \n",
    "x_train, x_test, y_train, y_test= train_test_split(x, y, test_size= 0.2, random_state=0)  \n",
    "\n",
    "#feature Scaling  \n",
    "from sklearn.preprocessing import StandardScaler    \n",
    "st_x= StandardScaler()    \n",
    "x_train= st_x.fit_transform(x_train)    \n",
    "x_test= st_x.transform(x_test)    "
   ]
  },
  {
   "cell_type": "code",
   "execution_count": 8,
   "metadata": {},
   "outputs": [
    {
     "data": {
      "text/plain": [
       "RandomForestClassifier(bootstrap=True, ccp_alpha=0.0, class_weight=None,\n",
       "                       criterion='entropy', max_depth=None, max_features='auto',\n",
       "                       max_leaf_nodes=None, max_samples=None,\n",
       "                       min_impurity_decrease=0.0, min_impurity_split=None,\n",
       "                       min_samples_leaf=1, min_samples_split=2,\n",
       "                       min_weight_fraction_leaf=0.0, n_estimators=20,\n",
       "                       n_jobs=None, oob_score=False, random_state=None,\n",
       "                       verbose=0, warm_start=False)"
      ]
     },
     "execution_count": 8,
     "metadata": {},
     "output_type": "execute_result"
    }
   ],
   "source": [
    "#Fitting Decision Tree classifier to the training set  \n",
    "from sklearn.ensemble import RandomForestClassifier  \n",
    "classifier= RandomForestClassifier(n_estimators= 20, criterion=\"entropy\")  \n",
    "classifier.fit(x_train, y_train)  "
   ]
  },
  {
   "cell_type": "code",
   "execution_count": 10,
   "metadata": {},
   "outputs": [
    {
     "data": {
      "text/plain": [
       "array([ 1,  1,  1,  1,  1,  1, -1,  1,  1, -1, -1,  1,  1,  1,  1, -1, -1,\n",
       "       -1,  1, -1,  1,  1,  1, -1, -1, -1, -1, -1,  1,  1, -1,  1, -1, -1,\n",
       "       -1, -1,  1,  1, -1,  1, -1,  1,  1, -1,  1,  1, -1, -1, -1,  1, -1,\n",
       "        1,  1,  1,  1,  1, -1,  1,  1,  1,  1,  1, -1, -1,  1,  1,  1, -1,\n",
       "        1, -1, -1,  1,  1, -1, -1, -1,  1,  1, -1, -1, -1,  1, -1,  1, -1,\n",
       "       -1, -1, -1,  1, -1,  1, -1, -1,  1,  1,  1,  1, -1, -1, -1,  1, -1,\n",
       "       -1, -1,  1, -1, -1,  1, -1,  1,  1,  1,  1, -1,  1,  1,  1,  1,  1,\n",
       "        1,  1, -1,  1, -1, -1,  1,  1, -1, -1, -1,  1,  1, -1, -1,  1, -1,\n",
       "        1,  1,  1,  1,  1,  1,  1,  1,  1,  1,  1, -1,  1, -1, -1, -1,  1,\n",
       "       -1, -1, -1, -1, -1,  1, -1,  1, -1,  1,  1,  1, -1,  1, -1,  1,  1,\n",
       "       -1,  1,  1, -1,  1, -1,  1, -1, -1,  1,  1,  1,  1, -1, -1,  1,  1,\n",
       "        1, -1,  1,  1,  1, -1, -1,  1,  1, -1, -1,  1,  1,  1, -1, -1,  1,\n",
       "       -1,  1,  1,  1,  1, -1, -1, -1, -1,  1, -1,  1,  1,  1, -1,  1, -1,\n",
       "        1, -1,  1, -1, -1,  1, -1,  1, -1,  1,  1, -1], dtype=int64)"
      ]
     },
     "execution_count": 10,
     "metadata": {},
     "output_type": "execute_result"
    }
   ],
   "source": [
    "#Predicting the test set result  \n",
    "y_pred= classifier.predict(x_test)  \n",
    "y_pred"
   ]
  },
  {
   "cell_type": "code",
   "execution_count": 11,
   "metadata": {},
   "outputs": [
    {
     "data": {
      "text/plain": [
       "array([[55, 63],\n",
       "       [49, 66]], dtype=int64)"
      ]
     },
     "execution_count": 11,
     "metadata": {},
     "output_type": "execute_result"
    }
   ],
   "source": [
    "#Creating the Confusion matrix  \n",
    "from sklearn.metrics import confusion_matrix  \n",
    "cm= confusion_matrix(y_test, y_pred)  \n",
    "cm"
   ]
  },
  {
   "cell_type": "code",
   "execution_count": 12,
   "metadata": {},
   "outputs": [
    {
     "name": "stdout",
     "output_type": "stream",
     "text": [
      "Accuracy: 0.51931330472103\n"
     ]
    }
   ],
   "source": [
    "from sklearn import metrics\n",
    "# Model Accuracy, how often is the classifier correct?\n",
    "print(\"Accuracy:\",metrics.accuracy_score(y_test, y_pred))"
   ]
  },
  {
   "cell_type": "code",
   "execution_count": 13,
   "metadata": {},
   "outputs": [],
   "source": []
  },
  {
   "cell_type": "code",
   "execution_count": null,
   "metadata": {},
   "outputs": [],
   "source": []
  },
  {
   "cell_type": "code",
   "execution_count": null,
   "metadata": {},
   "outputs": [],
   "source": []
  }
 ],
 "metadata": {
  "kernelspec": {
   "display_name": "Python 3.6.5 64-bit ('Vinod': virtualenv)",
   "language": "python",
   "name": "python36564bitvinodvirtualenv4b53f92ccde74dd29aef20cb28f92e3b"
  },
  "language_info": {
   "codemirror_mode": {
    "name": "ipython",
    "version": 3
   },
   "file_extension": ".py",
   "mimetype": "text/x-python",
   "name": "python",
   "nbconvert_exporter": "python",
   "pygments_lexer": "ipython3",
   "version": "3.6.10"
  }
 },
 "nbformat": 4,
 "nbformat_minor": 4
}
