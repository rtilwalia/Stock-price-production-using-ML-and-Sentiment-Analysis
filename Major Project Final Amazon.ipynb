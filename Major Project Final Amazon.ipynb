{
 "cells": [
  {
   "cell_type": "code",
   "execution_count": 2,
   "metadata": {},
   "outputs": [],
   "source": [
    "import numpy as np\n",
    "import matplotlib.pyplot as mtp  \n",
    "import pandas as pd "
   ]
  },
  {
   "cell_type": "code",
   "execution_count": 18,
   "metadata": {},
   "outputs": [
    {
     "data": {
      "text/html": [
       "<div>\n",
       "<style scoped>\n",
       "    .dataframe tbody tr th:only-of-type {\n",
       "        vertical-align: middle;\n",
       "    }\n",
       "\n",
       "    .dataframe tbody tr th {\n",
       "        vertical-align: top;\n",
       "    }\n",
       "\n",
       "    .dataframe thead th {\n",
       "        text-align: right;\n",
       "    }\n",
       "</style>\n",
       "<table border=\"1\" class=\"dataframe\">\n",
       "  <thead>\n",
       "    <tr style=\"text-align: right;\">\n",
       "      <th></th>\n",
       "      <th>Unnamed: 0</th>\n",
       "      <th>Unnamed: 0.1</th>\n",
       "      <th>Date</th>\n",
       "      <th>Open</th>\n",
       "      <th>High</th>\n",
       "      <th>Low</th>\n",
       "      <th>Close</th>\n",
       "      <th>Volume</th>\n",
       "      <th>Trend</th>\n",
       "      <th>Close_10</th>\n",
       "      <th>Future Trend</th>\n",
       "      <th>Total score</th>\n",
       "    </tr>\n",
       "  </thead>\n",
       "  <tbody>\n",
       "    <tr>\n",
       "      <th>0</th>\n",
       "      <td>0</td>\n",
       "      <td>0</td>\n",
       "      <td>20141231</td>\n",
       "      <td>311.549988</td>\n",
       "      <td>312.980011</td>\n",
       "      <td>310.010010</td>\n",
       "      <td>310.350006</td>\n",
       "      <td>2048000</td>\n",
       "      <td>-1</td>\n",
       "      <td>286.950012</td>\n",
       "      <td>-1</td>\n",
       "      <td>-231</td>\n",
       "    </tr>\n",
       "    <tr>\n",
       "      <th>1</th>\n",
       "      <td>1</td>\n",
       "      <td>1</td>\n",
       "      <td>20150102</td>\n",
       "      <td>312.579987</td>\n",
       "      <td>314.750000</td>\n",
       "      <td>306.959992</td>\n",
       "      <td>308.519989</td>\n",
       "      <td>2783200</td>\n",
       "      <td>-1</td>\n",
       "      <td>290.739990</td>\n",
       "      <td>-1</td>\n",
       "      <td>31</td>\n",
       "    </tr>\n",
       "    <tr>\n",
       "      <th>2</th>\n",
       "      <td>2</td>\n",
       "      <td>2</td>\n",
       "      <td>20150105</td>\n",
       "      <td>307.010010</td>\n",
       "      <td>308.380005</td>\n",
       "      <td>300.850006</td>\n",
       "      <td>302.190002</td>\n",
       "      <td>2774200</td>\n",
       "      <td>-1</td>\n",
       "      <td>289.440002</td>\n",
       "      <td>-1</td>\n",
       "      <td>35</td>\n",
       "    </tr>\n",
       "    <tr>\n",
       "      <th>3</th>\n",
       "      <td>3</td>\n",
       "      <td>3</td>\n",
       "      <td>20150106</td>\n",
       "      <td>302.239990</td>\n",
       "      <td>303.000000</td>\n",
       "      <td>292.380005</td>\n",
       "      <td>295.290008</td>\n",
       "      <td>3519000</td>\n",
       "      <td>-1</td>\n",
       "      <td>297.250000</td>\n",
       "      <td>1</td>\n",
       "      <td>35</td>\n",
       "    </tr>\n",
       "    <tr>\n",
       "      <th>4</th>\n",
       "      <td>4</td>\n",
       "      <td>4</td>\n",
       "      <td>20150107</td>\n",
       "      <td>297.500000</td>\n",
       "      <td>301.279999</td>\n",
       "      <td>295.329987</td>\n",
       "      <td>298.420013</td>\n",
       "      <td>2640300</td>\n",
       "      <td>1</td>\n",
       "      <td>310.320007</td>\n",
       "      <td>1</td>\n",
       "      <td>157</td>\n",
       "    </tr>\n",
       "    <tr>\n",
       "      <th>...</th>\n",
       "      <td>...</td>\n",
       "      <td>...</td>\n",
       "      <td>...</td>\n",
       "      <td>...</td>\n",
       "      <td>...</td>\n",
       "      <td>...</td>\n",
       "      <td>...</td>\n",
       "      <td>...</td>\n",
       "      <td>...</td>\n",
       "      <td>...</td>\n",
       "      <td>...</td>\n",
       "      <td>...</td>\n",
       "    </tr>\n",
       "    <tr>\n",
       "      <th>1158</th>\n",
       "      <td>1158</td>\n",
       "      <td>1158</td>\n",
       "      <td>20190808</td>\n",
       "      <td>1806.000000</td>\n",
       "      <td>1834.260010</td>\n",
       "      <td>1798.109985</td>\n",
       "      <td>1832.890015</td>\n",
       "      <td>3701200</td>\n",
       "      <td>1</td>\n",
       "      <td>1749.620000</td>\n",
       "      <td>-1</td>\n",
       "      <td>192</td>\n",
       "    </tr>\n",
       "    <tr>\n",
       "      <th>1159</th>\n",
       "      <td>1159</td>\n",
       "      <td>1159</td>\n",
       "      <td>20190809</td>\n",
       "      <td>1828.949951</td>\n",
       "      <td>1831.089966</td>\n",
       "      <td>1802.219971</td>\n",
       "      <td>1807.579956</td>\n",
       "      <td>2879800</td>\n",
       "      <td>-1</td>\n",
       "      <td>1768.870000</td>\n",
       "      <td>-1</td>\n",
       "      <td>452</td>\n",
       "    </tr>\n",
       "    <tr>\n",
       "      <th>1160</th>\n",
       "      <td>1160</td>\n",
       "      <td>1160</td>\n",
       "      <td>20190812</td>\n",
       "      <td>1795.989990</td>\n",
       "      <td>1800.979980</td>\n",
       "      <td>1777.000000</td>\n",
       "      <td>1784.920044</td>\n",
       "      <td>2905500</td>\n",
       "      <td>-1</td>\n",
       "      <td>1761.830000</td>\n",
       "      <td>-1</td>\n",
       "      <td>602</td>\n",
       "    </tr>\n",
       "    <tr>\n",
       "      <th>1161</th>\n",
       "      <td>1161</td>\n",
       "      <td>1161</td>\n",
       "      <td>20190813</td>\n",
       "      <td>1783.000000</td>\n",
       "      <td>1831.739990</td>\n",
       "      <td>1780.000000</td>\n",
       "      <td>1824.339966</td>\n",
       "      <td>3994000</td>\n",
       "      <td>1</td>\n",
       "      <td>1764.250000</td>\n",
       "      <td>-1</td>\n",
       "      <td>411</td>\n",
       "    </tr>\n",
       "    <tr>\n",
       "      <th>1162</th>\n",
       "      <td>1162</td>\n",
       "      <td>1162</td>\n",
       "      <td>20190814</td>\n",
       "      <td>1793.010010</td>\n",
       "      <td>1795.650024</td>\n",
       "      <td>1757.219971</td>\n",
       "      <td>1762.959961</td>\n",
       "      <td>4893600</td>\n",
       "      <td>-1</td>\n",
       "      <td>1786.400000</td>\n",
       "      <td>1</td>\n",
       "      <td>365</td>\n",
       "    </tr>\n",
       "  </tbody>\n",
       "</table>\n",
       "<p>1163 rows × 12 columns</p>\n",
       "</div>"
      ],
      "text/plain": [
       "      Unnamed: 0  Unnamed: 0.1      Date         Open         High  \\\n",
       "0              0             0  20141231   311.549988   312.980011   \n",
       "1              1             1  20150102   312.579987   314.750000   \n",
       "2              2             2  20150105   307.010010   308.380005   \n",
       "3              3             3  20150106   302.239990   303.000000   \n",
       "4              4             4  20150107   297.500000   301.279999   \n",
       "...          ...           ...       ...          ...          ...   \n",
       "1158        1158          1158  20190808  1806.000000  1834.260010   \n",
       "1159        1159          1159  20190809  1828.949951  1831.089966   \n",
       "1160        1160          1160  20190812  1795.989990  1800.979980   \n",
       "1161        1161          1161  20190813  1783.000000  1831.739990   \n",
       "1162        1162          1162  20190814  1793.010010  1795.650024   \n",
       "\n",
       "              Low        Close   Volume  Trend     Close_10  Future Trend  \\\n",
       "0      310.010010   310.350006  2048000     -1   286.950012            -1   \n",
       "1      306.959992   308.519989  2783200     -1   290.739990            -1   \n",
       "2      300.850006   302.190002  2774200     -1   289.440002            -1   \n",
       "3      292.380005   295.290008  3519000     -1   297.250000             1   \n",
       "4      295.329987   298.420013  2640300      1   310.320007             1   \n",
       "...           ...          ...      ...    ...          ...           ...   \n",
       "1158  1798.109985  1832.890015  3701200      1  1749.620000            -1   \n",
       "1159  1802.219971  1807.579956  2879800     -1  1768.870000            -1   \n",
       "1160  1777.000000  1784.920044  2905500     -1  1761.830000            -1   \n",
       "1161  1780.000000  1824.339966  3994000      1  1764.250000            -1   \n",
       "1162  1757.219971  1762.959961  4893600     -1  1786.400000             1   \n",
       "\n",
       "      Total score  \n",
       "0            -231  \n",
       "1              31  \n",
       "2              35  \n",
       "3              35  \n",
       "4             157  \n",
       "...           ...  \n",
       "1158          192  \n",
       "1159          452  \n",
       "1160          602  \n",
       "1161          411  \n",
       "1162          365  \n",
       "\n",
       "[1163 rows x 12 columns]"
      ]
     },
     "execution_count": 18,
     "metadata": {},
     "output_type": "execute_result"
    }
   ],
   "source": [
    "data_set= pd.read_csv(r'C:\\Users\\Vinod\\Desktop\\major project\\stocks\\amazon_stocks.csv')  \n",
    "data_set.dropna(axis='columns')\n",
    "\n",
    "data_set.fillna(0, inplace=True)\n",
    "data_set"
   ]
  },
  {
   "cell_type": "code",
   "execution_count": 19,
   "metadata": {},
   "outputs": [],
   "source": [
    "feature_df = data_set[['Trend','Total score']]\n",
    "\n",
    "\n",
    "x = np.asarray(feature_df)\n",
    "\n",
    "y = np.asarray(data_set['Future Trend'])\n"
   ]
  },
  {
   "cell_type": "code",
   "execution_count": 20,
   "metadata": {},
   "outputs": [
    {
     "data": {
      "text/plain": [
       "Text(0, 0.5, 'Stock value and sentiments')"
      ]
     },
     "execution_count": 20,
     "metadata": {},
     "output_type": "execute_result"
    },
    {
     "data": {
      "image/png": "[encoded data removed]",
      "text/plain": [
       "<Figure size 432x288 with 1 Axes>"
      ]
     },
     "metadata": {
      "needs_background": "light"
     },
     "output_type": "display_data"
    }
   ],
   "source": [
    "mtp.plot(data_set['Unnamed: 0'],data_set['Open'],data_set['Total score'])\n",
    "mtp.xlabel(\"No of day\")\n",
    "mtp.ylabel(\"Stock value and sentiments\")"
   ]
  },
  {
   "cell_type": "code",
   "execution_count": 6,
   "metadata": {},
   "outputs": [],
   "source": [
    "from sklearn.model_selection import train_test_split  \n",
    "x_train, x_test, y_train, y_test= train_test_split(x, y, test_size= 0.2, random_state=0)  \n",
    "\n",
    "#feature Scaling  \n",
    "from sklearn.preprocessing import StandardScaler    \n",
    "st_x= StandardScaler()    \n",
    "x_train= st_x.fit_transform(x_train)    \n",
    "x_test= st_x.transform(x_test)    "
   ]
  },
  {
   "cell_type": "code",
   "execution_count": 7,
   "metadata": {},
   "outputs": [
    {
     "data": {
      "text/plain": [
       "RandomForestClassifier(bootstrap=True, ccp_alpha=0.0, class_weight=None,\n",
       "                       criterion='entropy', max_depth=None, max_features='auto',\n",
       "                       max_leaf_nodes=None, max_samples=None,\n",
       "                       min_impurity_decrease=0.0, min_impurity_split=None,\n",
       "                       min_samples_leaf=1, min_samples_split=2,\n",
       "                       min_weight_fraction_leaf=0.0, n_estimators=100,\n",
       "                       n_jobs=None, oob_score=False, random_state=None,\n",
       "                       verbose=0, warm_start=False)"
      ]
     },
     "execution_count": 7,
     "metadata": {},
     "output_type": "execute_result"
    }
   ],
   "source": [
    "#Fitting Decision Tree classifier to the training set  \n",
    "from sklearn.ensemble import RandomForestClassifier  \n",
    "classifier= RandomForestClassifier(n_estimators= 100, criterion=\"entropy\")  \n",
    "classifier.fit(x_train, y_train)  "
   ]
  },
  {
   "cell_type": "code",
   "execution_count": 8,
   "metadata": {},
   "outputs": [
    {
     "data": {
      "text/plain": [
       "array([ 1,  1,  1, -1,  1,  1, -1,  1,  1,  1,  1,  1,  1, -1,  1,  1, -1,\n",
       "        1,  1, -1, -1, -1, -1, -1, -1,  1, -1,  1, -1,  1, -1, -1,  1,  1,\n",
       "        1, -1,  1, -1, -1, -1,  1, -1,  1, -1,  1,  1, -1,  1,  1,  1,  1,\n",
       "        1,  1, -1, -1,  1,  1,  1, -1,  1,  1,  1,  1,  1,  1, -1, -1,  1,\n",
       "       -1, -1, -1, -1,  1, -1,  1,  1,  1, -1,  1,  1,  1,  1,  1,  1, -1,\n",
       "       -1, -1,  1,  1,  1, -1, -1,  1, -1,  1,  1,  1,  1, -1, -1,  1,  1,\n",
       "        1,  1,  1, -1, -1,  1, -1,  1,  1,  1,  1, -1, -1,  1,  1,  1,  1,\n",
       "        1,  1, -1,  1, -1,  1,  1,  1, -1,  1,  1, -1,  1, -1,  1,  1, -1,\n",
       "        1, -1,  1,  1,  1, -1,  1, -1,  1, -1,  1,  1, -1,  1, -1, -1,  1,\n",
       "       -1,  1,  1,  1, -1,  1,  1, -1,  1,  1, -1,  1,  1, -1,  1,  1, -1,\n",
       "        1, -1,  1,  1, -1, -1,  1,  1,  1,  1,  1, -1, -1, -1,  1,  1,  1,\n",
       "       -1,  1, -1,  1, -1, -1,  1,  1,  1,  1,  1,  1, -1,  1, -1, -1,  1,\n",
       "        1,  1,  1,  1,  1, -1,  1,  1,  1,  1,  1, -1,  1, -1,  1,  1,  1,\n",
       "        1,  1,  1,  1,  1,  1,  1, -1,  1, -1,  1,  1], dtype=int64)"
      ]
     },
     "execution_count": 8,
     "metadata": {},
     "output_type": "execute_result"
    }
   ],
   "source": [
    "#Predicting the test set result  \n",
    "y_pred= classifier.predict(x_test)  \n",
    "y_pred"
   ]
  },
  {
   "cell_type": "code",
   "execution_count": 9,
   "metadata": {},
   "outputs": [
    {
     "data": {
      "text/plain": [
       "array([[33, 56],\n",
       "       [49, 95]], dtype=int64)"
      ]
     },
     "execution_count": 9,
     "metadata": {},
     "output_type": "execute_result"
    }
   ],
   "source": [
    "#Creating the Confusion matrix  \n",
    "from sklearn.metrics import confusion_matrix  \n",
    "cm= confusion_matrix(y_test, y_pred)  \n",
    "cm"
   ]
  },
  {
   "cell_type": "code",
   "execution_count": 10,
   "metadata": {},
   "outputs": [
    {
     "name": "stdout",
     "output_type": "stream",
     "text": [
      "Accuracy: 0.5493562231759657\n"
     ]
    }
   ],
   "source": [
    "from sklearn import metrics\n",
    "# Model Accuracy, how often is the classifier correct?\n",
    "print(\"Accuracy:\",metrics.accuracy_score(y_test, y_pred))"
   ]
  },
  {
   "cell_type": "code",
   "execution_count": 13,
   "metadata": {},
   "outputs": [],
   "source": []
  },
  {
   "cell_type": "code",
   "execution_count": null,
   "metadata": {},
   "outputs": [],
   "source": []
  },
  {
   "cell_type": "code",
   "execution_count": null,
   "metadata": {},
   "outputs": [],
   "source": []
  }
 ],
 "metadata": {
  "kernelspec": {
   "display_name": "Python 3.6.5 64-bit ('Vinod': virtualenv)",
   "language": "python",
   "name": "python36564bitvinodvirtualenv4b53f92ccde74dd29aef20cb28f92e3b"
  },
  "language_info": {
   "codemirror_mode": {
    "name": "ipython",
    "version": 3
   },
   "file_extension": ".py",
   "mimetype": "text/x-python",
   "name": "python",
   "nbconvert_exporter": "python",
   "pygments_lexer": "ipython3",
   "version": "3.6.10"
  }
 },
 "nbformat": 4,
 "nbformat_minor": 4
}
