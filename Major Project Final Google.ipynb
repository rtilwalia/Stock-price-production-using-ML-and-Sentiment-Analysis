{
 "cells": [
  {
   "cell_type": "code",
   "execution_count": 1,
   "metadata": {},
   "outputs": [],
   "source": [
    "import numpy as np\n",
    "import matplotlib.pyplot as mtp  \n",
    "import pandas as pd "
   ]
  },
  {
   "cell_type": "code",
   "execution_count": 2,
   "metadata": {},
   "outputs": [
    {
     "data": {
      "text/html": [
       "<div>\n",
       "<style scoped>\n",
       "    .dataframe tbody tr th:only-of-type {\n",
       "        vertical-align: middle;\n",
       "    }\n",
       "\n",
       "    .dataframe tbody tr th {\n",
       "        vertical-align: top;\n",
       "    }\n",
       "\n",
       "    .dataframe thead th {\n",
       "        text-align: right;\n",
       "    }\n",
       "</style>\n",
       "<table border=\"1\" class=\"dataframe\">\n",
       "  <thead>\n",
       "    <tr style=\"text-align: right;\">\n",
       "      <th></th>\n",
       "      <th>Unnamed: 0</th>\n",
       "      <th>Unnamed: 0.1</th>\n",
       "      <th>Date</th>\n",
       "      <th>Open</th>\n",
       "      <th>High</th>\n",
       "      <th>Low</th>\n",
       "      <th>Close</th>\n",
       "      <th>Volume</th>\n",
       "      <th>Trend</th>\n",
       "      <th>Close_10</th>\n",
       "      <th>Future Trend</th>\n",
       "      <th>Total score</th>\n",
       "    </tr>\n",
       "  </thead>\n",
       "  <tbody>\n",
       "    <tr>\n",
       "      <th>0</th>\n",
       "      <td>0</td>\n",
       "      <td>0</td>\n",
       "      <td>20141231</td>\n",
       "      <td>537.739990</td>\n",
       "      <td>538.400024</td>\n",
       "      <td>530.200012</td>\n",
       "      <td>530.659973</td>\n",
       "      <td>1232400</td>\n",
       "      <td>-1</td>\n",
       "      <td>504.010010</td>\n",
       "      <td>-1</td>\n",
       "      <td>67</td>\n",
       "    </tr>\n",
       "    <tr>\n",
       "      <th>1</th>\n",
       "      <td>1</td>\n",
       "      <td>1</td>\n",
       "      <td>20150102</td>\n",
       "      <td>532.599976</td>\n",
       "      <td>535.799988</td>\n",
       "      <td>527.880005</td>\n",
       "      <td>529.549988</td>\n",
       "      <td>1324000</td>\n",
       "      <td>-1</td>\n",
       "      <td>510.459992</td>\n",
       "      <td>-1</td>\n",
       "      <td>77</td>\n",
       "    </tr>\n",
       "    <tr>\n",
       "      <th>2</th>\n",
       "      <td>2</td>\n",
       "      <td>2</td>\n",
       "      <td>20150105</td>\n",
       "      <td>527.150024</td>\n",
       "      <td>527.989990</td>\n",
       "      <td>517.750000</td>\n",
       "      <td>519.460022</td>\n",
       "      <td>2059100</td>\n",
       "      <td>-1</td>\n",
       "      <td>509.940002</td>\n",
       "      <td>-1</td>\n",
       "      <td>152</td>\n",
       "    </tr>\n",
       "    <tr>\n",
       "      <th>3</th>\n",
       "      <td>3</td>\n",
       "      <td>3</td>\n",
       "      <td>20150106</td>\n",
       "      <td>520.500000</td>\n",
       "      <td>521.210022</td>\n",
       "      <td>505.549988</td>\n",
       "      <td>506.640015</td>\n",
       "      <td>2722800</td>\n",
       "      <td>-1</td>\n",
       "      <td>520.390015</td>\n",
       "      <td>1</td>\n",
       "      <td>188</td>\n",
       "    </tr>\n",
       "    <tr>\n",
       "      <th>4</th>\n",
       "      <td>4</td>\n",
       "      <td>4</td>\n",
       "      <td>20150107</td>\n",
       "      <td>510.950012</td>\n",
       "      <td>511.489990</td>\n",
       "      <td>503.649994</td>\n",
       "      <td>505.149994</td>\n",
       "      <td>2345900</td>\n",
       "      <td>-1</td>\n",
       "      <td>537.299988</td>\n",
       "      <td>1</td>\n",
       "      <td>286</td>\n",
       "    </tr>\n",
       "    <tr>\n",
       "      <th>...</th>\n",
       "      <td>...</td>\n",
       "      <td>...</td>\n",
       "      <td>...</td>\n",
       "      <td>...</td>\n",
       "      <td>...</td>\n",
       "      <td>...</td>\n",
       "      <td>...</td>\n",
       "      <td>...</td>\n",
       "      <td>...</td>\n",
       "      <td>...</td>\n",
       "      <td>...</td>\n",
       "      <td>...</td>\n",
       "    </tr>\n",
       "    <tr>\n",
       "      <th>1158</th>\n",
       "      <td>1158</td>\n",
       "      <td>1158</td>\n",
       "      <td>20190808</td>\n",
       "      <td>1186.430054</td>\n",
       "      <td>1206.280029</td>\n",
       "      <td>1174.000000</td>\n",
       "      <td>1206.189941</td>\n",
       "      <td>1505800</td>\n",
       "      <td>1</td>\n",
       "      <td>1153.580000</td>\n",
       "      <td>-1</td>\n",
       "      <td>66</td>\n",
       "    </tr>\n",
       "    <tr>\n",
       "      <th>1159</th>\n",
       "      <td>1159</td>\n",
       "      <td>1159</td>\n",
       "      <td>20190809</td>\n",
       "      <td>1199.989990</td>\n",
       "      <td>1204.459961</td>\n",
       "      <td>1184.890015</td>\n",
       "      <td>1188.900024</td>\n",
       "      <td>1020900</td>\n",
       "      <td>-1</td>\n",
       "      <td>1171.180000</td>\n",
       "      <td>-1</td>\n",
       "      <td>77</td>\n",
       "    </tr>\n",
       "    <tr>\n",
       "      <th>1160</th>\n",
       "      <td>1160</td>\n",
       "      <td>1160</td>\n",
       "      <td>20190812</td>\n",
       "      <td>1180.000000</td>\n",
       "      <td>1185.609985</td>\n",
       "      <td>1168.719971</td>\n",
       "      <td>1174.500000</td>\n",
       "      <td>1103200</td>\n",
       "      <td>-1</td>\n",
       "      <td>1170.820000</td>\n",
       "      <td>-1</td>\n",
       "      <td>102</td>\n",
       "    </tr>\n",
       "    <tr>\n",
       "      <th>1161</th>\n",
       "      <td>1161</td>\n",
       "      <td>1161</td>\n",
       "      <td>20190813</td>\n",
       "      <td>1174.349976</td>\n",
       "      <td>1205.430054</td>\n",
       "      <td>1172.989990</td>\n",
       "      <td>1196.729980</td>\n",
       "      <td>1421700</td>\n",
       "      <td>1</td>\n",
       "      <td>1173.750000</td>\n",
       "      <td>-1</td>\n",
       "      <td>136</td>\n",
       "    </tr>\n",
       "    <tr>\n",
       "      <th>1162</th>\n",
       "      <td>1162</td>\n",
       "      <td>1162</td>\n",
       "      <td>20190814</td>\n",
       "      <td>1176.069946</td>\n",
       "      <td>1182.790039</td>\n",
       "      <td>1161.069946</td>\n",
       "      <td>1164.250000</td>\n",
       "      <td>1771500</td>\n",
       "      <td>-1</td>\n",
       "      <td>1194.240000</td>\n",
       "      <td>1</td>\n",
       "      <td>123</td>\n",
       "    </tr>\n",
       "  </tbody>\n",
       "</table>\n",
       "<p>1163 rows × 12 columns</p>\n",
       "</div>"
      ],
      "text/plain": [
       "      Unnamed: 0  Unnamed: 0.1      Date         Open         High  \\\n",
       "0              0             0  20141231   537.739990   538.400024   \n",
       "1              1             1  20150102   532.599976   535.799988   \n",
       "2              2             2  20150105   527.150024   527.989990   \n",
       "3              3             3  20150106   520.500000   521.210022   \n",
       "4              4             4  20150107   510.950012   511.489990   \n",
       "...          ...           ...       ...          ...          ...   \n",
       "1158        1158          1158  20190808  1186.430054  1206.280029   \n",
       "1159        1159          1159  20190809  1199.989990  1204.459961   \n",
       "1160        1160          1160  20190812  1180.000000  1185.609985   \n",
       "1161        1161          1161  20190813  1174.349976  1205.430054   \n",
       "1162        1162          1162  20190814  1176.069946  1182.790039   \n",
       "\n",
       "              Low        Close   Volume  Trend     Close_10  Future Trend  \\\n",
       "0      530.200012   530.659973  1232400     -1   504.010010            -1   \n",
       "1      527.880005   529.549988  1324000     -1   510.459992            -1   \n",
       "2      517.750000   519.460022  2059100     -1   509.940002            -1   \n",
       "3      505.549988   506.640015  2722800     -1   520.390015             1   \n",
       "4      503.649994   505.149994  2345900     -1   537.299988             1   \n",
       "...           ...          ...      ...    ...          ...           ...   \n",
       "1158  1174.000000  1206.189941  1505800      1  1153.580000            -1   \n",
       "1159  1184.890015  1188.900024  1020900     -1  1171.180000            -1   \n",
       "1160  1168.719971  1174.500000  1103200     -1  1170.820000            -1   \n",
       "1161  1172.989990  1196.729980  1421700      1  1173.750000            -1   \n",
       "1162  1161.069946  1164.250000  1771500     -1  1194.240000             1   \n",
       "\n",
       "      Total score  \n",
       "0              67  \n",
       "1              77  \n",
       "2             152  \n",
       "3             188  \n",
       "4             286  \n",
       "...           ...  \n",
       "1158           66  \n",
       "1159           77  \n",
       "1160          102  \n",
       "1161          136  \n",
       "1162          123  \n",
       "\n",
       "[1163 rows x 12 columns]"
      ]
     },
     "execution_count": 2,
     "metadata": {},
     "output_type": "execute_result"
    }
   ],
   "source": [
    "data_set= pd.read_csv(r'C:\\Users\\Vinod\\Desktop\\major project\\stocks\\google_stocks.csv')  \n",
    "data_set.dropna(axis='columns')\n",
    "\n",
    "data_set.fillna(0, inplace=True)\n",
    "data_set"
   ]
  },
  {
   "cell_type": "code",
   "execution_count": 3,
   "metadata": {},
   "outputs": [],
   "source": [
    "feature_df = data_set[['Trend','Total score']]\n",
    "\n",
    "\n",
    "x = np.asarray(feature_df)\n",
    "\n",
    "y = np.asarray(data_set['Future Trend'])\n"
   ]
  },
  {
   "cell_type": "code",
   "execution_count": 14,
   "metadata": {},
   "outputs": [
    {
     "name": "stderr",
     "output_type": "stream",
     "text": [
      "No handles with labels found to put in legend.\n"
     ]
    },
    {
     "data": {
      "text/plain": [
       "<matplotlib.legend.Legend at 0x27a7e158390>"
      ]
     },
     "execution_count": 14,
     "metadata": {},
     "output_type": "execute_result"
    },
    {
     "data": {
      "image/png": "[encoded data removed]",
      "text/plain": [
       "<Figure size 432x288 with 1 Axes>"
      ]
     },
     "metadata": {
      "needs_background": "light"
     },
     "output_type": "display_data"
    }
   ],
   "source": [
    "mtp.plot(data_set['Unnamed: 0'],data_set['Open'],data_set['Total score'])\n",
    "mtp.xlabel(\"No of day\")\n",
    "mtp.ylabel(\"Stock value and sentiments\")\n",
    "mtp.legend()"
   ]
  },
  {
   "cell_type": "code",
   "execution_count": 5,
   "metadata": {},
   "outputs": [],
   "source": [
    "from sklearn.model_selection import train_test_split  \n",
    "x_train, x_test, y_train, y_test= train_test_split(x, y, test_size= 0.2, random_state=0)  \n",
    "\n",
    "#feature Scaling  \n",
    "from sklearn.preprocessing import StandardScaler    \n",
    "st_x= StandardScaler()    \n",
    "x_train= st_x.fit_transform(x_train)    \n",
    "x_test= st_x.transform(x_test)    "
   ]
  },
  {
   "cell_type": "code",
   "execution_count": 10,
   "metadata": {},
   "outputs": [
    {
     "data": {
      "text/plain": [
       "RandomForestClassifier(bootstrap=True, ccp_alpha=0.0, class_weight=None,\n",
       "                       criterion='entropy', max_depth=None, max_features='auto',\n",
       "                       max_leaf_nodes=None, max_samples=None,\n",
       "                       min_impurity_decrease=0.0, min_impurity_split=None,\n",
       "                       min_samples_leaf=1, min_samples_split=2,\n",
       "                       min_weight_fraction_leaf=0.0, n_estimators=20,\n",
       "                       n_jobs=None, oob_score=False, random_state=None,\n",
       "                       verbose=0, warm_start=False)"
      ]
     },
     "execution_count": 10,
     "metadata": {},
     "output_type": "execute_result"
    }
   ],
   "source": [
    "#Fitting Decision Tree classifier to the training set  \n",
    "from sklearn.ensemble import RandomForestClassifier  \n",
    "classifier= RandomForestClassifier(n_estimators= 20, criterion=\"entropy\")  \n",
    "classifier.fit(x_train, y_train)  "
   ]
  },
  {
   "cell_type": "code",
   "execution_count": 11,
   "metadata": {},
   "outputs": [
    {
     "data": {
      "text/plain": [
       "array([ 1,  1,  1,  1,  1,  1, -1,  1, -1,  1,  1, -1, -1,  1, -1,  1, -1,\n",
       "       -1,  1,  1, -1,  1, -1,  1,  1, -1,  1,  1,  1, -1,  1,  1,  1, -1,\n",
       "        1,  1,  1,  1, -1,  1,  1, -1,  1,  1,  1, -1, -1, -1, -1, -1,  1,\n",
       "       -1,  1,  1, -1,  1,  1,  1,  1, -1, -1, -1,  1, -1,  1,  1,  1, -1,\n",
       "       -1,  1, -1,  1,  1, -1,  1,  1,  1,  1, -1,  1,  1,  1,  1, -1, -1,\n",
       "       -1,  1,  1, -1,  1,  1, -1,  1,  1, -1, -1, -1,  1, -1, -1,  1,  1,\n",
       "        1, -1,  1,  1, -1, -1, -1,  1,  1,  1,  1, -1,  1, -1,  1,  1, -1,\n",
       "       -1, -1, -1,  1,  1,  1,  1,  1, -1,  1, -1,  1,  1, -1, -1,  1,  1,\n",
       "        1, -1,  1,  1,  1,  1,  1,  1,  1,  1,  1,  1, -1,  1,  1,  1, -1,\n",
       "        1, -1,  1,  1,  1,  1, -1, -1,  1,  1,  1, -1,  1, -1, -1, -1,  1,\n",
       "       -1,  1,  1, -1,  1,  1, -1, -1, -1,  1,  1, -1,  1,  1,  1, -1,  1,\n",
       "        1,  1,  1,  1, -1,  1, -1,  1,  1, -1, -1,  1,  1, -1,  1,  1, -1,\n",
       "        1,  1,  1,  1, -1,  1, -1,  1,  1,  1,  1, -1,  1, -1, -1, -1, -1,\n",
       "        1,  1, -1,  1,  1, -1,  1,  1,  1,  1,  1,  1], dtype=int64)"
      ]
     },
     "execution_count": 11,
     "metadata": {},
     "output_type": "execute_result"
    }
   ],
   "source": [
    "#Predicting the test set result  \n",
    "y_pred= classifier.predict(x_test)  \n",
    "y_pred"
   ]
  },
  {
   "cell_type": "code",
   "execution_count": 12,
   "metadata": {},
   "outputs": [
    {
     "data": {
      "text/plain": [
       "array([[33, 59],\n",
       "       [53, 88]], dtype=int64)"
      ]
     },
     "execution_count": 12,
     "metadata": {},
     "output_type": "execute_result"
    }
   ],
   "source": [
    "#Creating the Confusion matrix  \n",
    "from sklearn.metrics import confusion_matrix  \n",
    "cm= confusion_matrix(y_test, y_pred)  \n",
    "cm"
   ]
  },
  {
   "cell_type": "code",
   "execution_count": 13,
   "metadata": {},
   "outputs": [
    {
     "name": "stdout",
     "output_type": "stream",
     "text": [
      "Accuracy: 0.51931330472103\n"
     ]
    }
   ],
   "source": [
    "from sklearn import metrics\n",
    "# Model Accuracy, how often is the classifier correct?\n",
    "print(\"Accuracy:\",metrics.accuracy_score(y_test, y_pred))"
   ]
  },
  {
   "cell_type": "code",
   "execution_count": 13,
   "metadata": {},
   "outputs": [],
   "source": []
  },
  {
   "cell_type": "code",
   "execution_count": null,
   "metadata": {},
   "outputs": [],
   "source": []
  },
  {
   "cell_type": "code",
   "execution_count": null,
   "metadata": {},
   "outputs": [],
   "source": []
  }
 ],
 "metadata": {
  "kernelspec": {
   "display_name": "Python 3.6.5 64-bit ('Vinod': virtualenv)",
   "language": "python",
   "name": "python36564bitvinodvirtualenv4b53f92ccde74dd29aef20cb28f92e3b"
  },
  "language_info": {
   "codemirror_mode": {
    "name": "ipython",
    "version": 3
   },
   "file_extension": ".py",
   "mimetype": "text/x-python",
   "name": "python",
   "nbconvert_exporter": "python",
   "pygments_lexer": "ipython3",
   "version": "3.6.10"
  }
 },
 "nbformat": 4,
 "nbformat_minor": 4
}
