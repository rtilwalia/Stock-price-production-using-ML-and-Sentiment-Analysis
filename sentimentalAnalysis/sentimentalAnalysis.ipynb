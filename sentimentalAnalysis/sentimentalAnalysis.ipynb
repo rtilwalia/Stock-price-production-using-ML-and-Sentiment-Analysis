{
 "cells": [
  {
   "cell_type": "code",
   "execution_count": 1,
   "metadata": {},
   "outputs": [],
   "source": [
    "from pycorenlp import StanfordCoreNLP"
   ]
  },
  {
   "cell_type": "code",
   "execution_count": 8,
   "metadata": {},
   "outputs": [
    {
     "name": "stdout",
     "output_type": "stream",
     "text": [
      "[2, 2, 3, 1]\n"
     ]
    }
   ],
   "source": [
    "nlp = StanfordCoreNLP('http://localhost:9000')\n",
    "\n",
    "text = \"This movie was actually neither that funny, nor super witty. The movie was meh. I liked watching that movie. If I had a choice, I would not watch that movie again.\"\n",
    "\n",
    "results = nlp.annotate(text,properties={\n",
    "        'annotators':'sentiment, ner, pos',\n",
    "        'outputFormat': 'json',\n",
    "        'timeout': 50000,\n",
    "        })\n",
    "\n",
    "#for s in results[\"sentences\"]:\n",
    "#    print(\"{} : {}\".format(\" \".join(t[\"word\"] for t in s[\"tokens\"]),s[\"sentiment\"]))\n",
    "\n",
    "#for s in results[\"sentences\"]:\n",
    "#    print(\"%d: '%s': %s %s\" % (\n",
    "#        s[\"index\"],\n",
    "#        \" \".join([t[\"word\"] for t in s[\"tokens\"]]),\n",
    "#        s[\"sentimentValue\"], s[\"sentiment\"]))\n",
    "    \n",
    "sentimentList = []\n",
    "\n",
    "for s in results[\"sentences\"]:\n",
    "    sentimentList.append(int(s[\"sentimentValue\"]))\n",
    "    #print(\"%s\" % (s[\"sentimentValue\"]))\n",
    "    \n",
    "print(sentimentList)\n",
    "    \n",
    "    \n",
    "#java -mx6g -cp \"*\" edu.stanford.nlp.pipeline.StanfordCoreNLPServer -timeout 50000\n",
    "#java -mx4g -cp \"*\" edu.stanford.nlp.pipeline.StanfordCoreNLPServer -port 9000 -timeout 15000"
   ]
  }
 ],
 "metadata": {
  "kernelspec": {
   "display_name": "Python 3",
   "language": "python",
   "name": "python3"
  },
  "language_info": {
   "codemirror_mode": {
    "name": "ipython",
    "version": 3
   },
   "file_extension": ".py",
   "mimetype": "text/x-python",
   "name": "python",
   "nbconvert_exporter": "python",
   "pygments_lexer": "ipython3",
   "version": "3.7.4"
  }
 },
 "nbformat": 4,
 "nbformat_minor": 2
}
